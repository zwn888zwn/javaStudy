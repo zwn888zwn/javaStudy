{
 "cells": [
  {
   "cell_type": "code",
   "execution_count": 223,
   "metadata": {
    "collapsed": true,
    "pycharm": {
     "is_executing": false
    }
   },
   "outputs": [
    {
     "name": "stdout",
     "text": [
      "Automatically created module for IPython interactive environment\n"
     ],
     "output_type": "stream"
    },
    {
     "data": {
      "text/plain": "'\\n#数据预处理\\ndata=pd.read_csv(\"data.csv\")\\ndata=data.fillna(0)\\ncount=0\\nmap1,map2,map3={},{},{}\\nfor i,r in data.iterrows():\\n    #print(i,\\'-->\\',r,type(r))\\n    key=data.iloc[len(data)-1-i,2]\\n    if key is not None  :\\n        if  key in map1 :\\n            map1[key]+=data.iloc[len(data)-1-i,3]\\n            map2[key]+=data.iloc[len(data)-1-i,4]\\n            map3[key]+=data.iloc[len(data)-1-i,5]\\n        else:\\n            map1[key]=0\\n            map2[key]=0\\n            map3[key]=0\\n            \\n            map1[key]+=data.iloc[len(data)-1-i,3] \\n            map2[key]+=data.iloc[len(data)-1-i,4]\\n            map3[key]+=data.iloc[len(data)-1-i,5]\\n\\n    data.iloc[len(data)-1-i,6]=map1[key]\\n    data.iloc[len(data)-1-i,7]=map2[key]\\n    data.iloc[len(data)-1-i,8]=map3[key]\\n\\ndata\\ndata.to_csv(\\'All.csv\\',encoding=\"utf_8_sig\",index=0)\\n\\n'"
     },
     "metadata": {},
     "output_type": "execute_result",
     "execution_count": 223
    }
   ],
   "source": [
    "print(__doc__)\n",
    "\n",
    "# Code source: Jaques Grobler\n",
    "# License: BSD 3 clause\n",
    "\n",
    "import matplotlib.pyplot as plt\n",
    "import numpy as np\n",
    "import pandas as pd\n",
    "from sklearn import  linear_model   #导入数据集和线性回归模型\n",
    "from sklearn.metrics import mean_squared_error, r2_score #均方误差（损失函数） ，R2值（0-1 越大越好）\n",
    "\n",
    "'''\n",
    "#数据预处理\n",
    "data=pd.read_csv(\"data.csv\")\n",
    "data=data.fillna(0)\n",
    "count=0\n",
    "map1,map2,map3={},{},{}\n",
    "for i,r in data.iterrows():\n",
    "    #print(i,'-->',r,type(r))\n",
    "    key=data.iloc[len(data)-1-i,2]\n",
    "    if key is not None  :\n",
    "        if  key in map1 :\n",
    "            map1[key]+=data.iloc[len(data)-1-i,3]\n",
    "            map2[key]+=data.iloc[len(data)-1-i,4]\n",
    "            map3[key]+=data.iloc[len(data)-1-i,5]\n",
    "        else:\n",
    "            map1[key]=0\n",
    "            map2[key]=0\n",
    "            map3[key]=0\n",
    "            \n",
    "            map1[key]+=data.iloc[len(data)-1-i,3] \n",
    "            map2[key]+=data.iloc[len(data)-1-i,4]\n",
    "            map3[key]+=data.iloc[len(data)-1-i,5]\n",
    "\n",
    "    data.iloc[len(data)-1-i,6]=map1[key]\n",
    "    data.iloc[len(data)-1-i,7]=map2[key]\n",
    "    data.iloc[len(data)-1-i,8]=map3[key]\n",
    "\n",
    "data\n",
    "data.to_csv('All.csv',encoding=\"utf_8_sig\",index=0)\n",
    "\n",
    "'''"
   ]
  },
  {
   "cell_type": "code",
   "execution_count": 224,
   "outputs": [
    {
     "data": {
      "text/plain": "<Figure size 432x288 with 1 Axes>",
      "image/png": "[encoded data removed]"
     },
     "metadata": {
      "needs_background": "light"
     },
     "output_type": "display_data"
    }
   ],
   "source": [
    "#累计确诊人数的线性回归预测模型\n",
    "df=pd.read_csv(\"All.csv\")\n",
    "df['报道时间'] ='2020年'+df['报道时间'] \n",
    "df['报道时间'] = pd.to_datetime(df['报道时间'],format='%Y年%m月%d日')#字符串转时间类型\n",
    "df\n",
    "split_date = pd.datetime(2020,2,20)\n",
    "predictX = pd.to_numeric(pd.date_range('1/15/2020 00:00', periods=60, freq='D').values).reshape(-1, 1)\n",
    "df_train = df.loc[df['报道时间'] <= split_date]#筛选时间\n",
    "data=df_train.drop_duplicates(subset=['报道时间','省份','城市'], keep='first')#去重复\n",
    "data=data.where(df_train.省份=='湖南').groupby('报道时间',as_index=False).sum() \n",
    "trainX=pd.to_numeric(data['报道时间'].values).reshape(-1, 1)\n",
    "trainY=data['累计确诊'].values.reshape(-1, 1)\n",
    "regr = linear_model.LinearRegression()\n",
    "regr.fit(trainX,trainY)\n",
    "predictY=regr.predict(predictX)\n",
    "\n",
    "plt.scatter(trainX, trainY,  color='black') #画测试集的散点图\n",
    "plt.plot(predictX, predictY, color='blue', linewidth=3) #用预测的结果点集画线\n",
    "plt.xticks(()) #隐藏xy轴坐标\n",
    "plt.show() \n",
    "#data[data.报道时间  <= '2月20日']\n",
    "#data[data.省份 == '湖北']"
   ],
   "metadata": {
    "collapsed": false,
    "pycharm": {
     "name": "#%%\n",
     "is_executing": false
    }
   }
  },
  {
   "cell_type": "code",
   "execution_count": 225,
   "outputs": [
    {
     "data": {
      "text/plain": "<Figure size 432x288 with 1 Axes>",
      "image/png": "[encoded data removed]"
     },
     "metadata": {
      "needs_background": "light"
     },
     "output_type": "display_data"
    },
    {
     "data": {
      "text/plain": "Timestamp('2020-03-09 00:00:00')"
     },
     "metadata": {},
     "output_type": "execute_result",
     "execution_count": 225
    }
   ],
   "source": [
    "#3新增确诊人数的线性回归预测模型\n",
    "df=pd.read_csv(\"All.csv\")\n",
    "df['报道时间'] ='2020年'+df['报道时间'] \n",
    "df['报道时间'] = pd.to_datetime(df['报道时间'],format='%Y年%m月%d日')#字符串转时间类型\n",
    "df\n",
    "split_date = pd.datetime(2020,2,20)\n",
    "predictX = pd.to_numeric(pd.date_range('1/10/2020 00:00', periods=60, freq='D').values).reshape(-1, 1)\n",
    "df_train = df.loc[df['报道时间'] <= split_date]#筛选时间\n",
    "data=df_train.where(df_train.省份=='湖南').groupby('报道时间',as_index=False).sum() \n",
    "trainX=pd.to_numeric(data['报道时间'].values).reshape(-1, 1)\n",
    "trainY=data['新增确诊'].values.reshape(-1, 1)\n",
    "regr = linear_model.LinearRegression()\n",
    "regr.fit(trainX,trainY)\n",
    "predictY=regr.predict(predictX)\n",
    "\n",
    "\n",
    "plt.scatter(trainX, trainY,  color='black') #画测试集的散点图\n",
    "plt.plot(predictX, predictY, color='blue', linewidth=3) #用预测的结果点集画线\n",
    "plt.xticks(()) #隐藏xy轴坐标\n",
    "plt.show() \n",
    "\n",
    "count = 0\n",
    "lastCount=0\n",
    "for i in np.nditer(predictY):\n",
    "    if i <= 0:\n",
    "        lastCount=count\n",
    "    count+=1\n",
    "pd.to_datetime(np.polyval(predictX[lastCount],0))"
   ],
   "metadata": {
    "collapsed": false,
    "pycharm": {
     "name": "#%%\n",
     "is_executing": false
    }
   }
  },
  {
   "cell_type": "code",
   "execution_count": 226,
   "outputs": [
    {
     "data": {
      "text/plain": "<Figure size 576x360 with 1 Axes>",
      "image/png": "[encoded data removed]"
     },
     "metadata": {
      "needs_background": "light"
     },
     "output_type": "display_data"
    },
    {
     "data": {
      "text/plain": "Timestamp('2020-01-21 00:00:00')"
     },
     "metadata": {},
     "output_type": "execute_result",
     "execution_count": 226
    }
   ],
   "source": [
    "#4新增确诊人数的线性回归预测模型\n",
    "from sklearn.gaussian_process import GaussianProcessRegressor\n",
    "from sklearn.gaussian_process.kernels import Matern,DotProduct,ConstantKernel, WhiteKernel\n",
    "from sklearn.gaussian_process.kernels import RBF, ConstantKernel as C\n",
    "\n",
    "df=pd.read_csv(\"All.csv\")\n",
    "df['报道时间'] ='2020年'+df['报道时间'] \n",
    "df['报道时间'] = pd.to_datetime(df['报道时间'],format='%Y年%m月%d日')#字符串转时间类型\n",
    "df\n",
    "split_date = pd.datetime(2020,2,20)\n",
    "predictX = pd.to_numeric(pd.date_range('1/10/2020 00:00', periods=60, freq='D').values).reshape(-1, 1)\n",
    "df_train = df.loc[df['报道时间'] <= split_date]#筛选时间\n",
    "data=df_train.where(df_train.省份=='湖南').groupby('报道时间',as_index=False).sum() \n",
    "trainX=pd.to_numeric(data['报道时间'].values).reshape(-1, 1)\n",
    "trainY=data['新增确诊'].values.reshape(-1, 1)\n",
    "\n",
    "kernel = C(1.0, (1e-3, 1e3)) * RBF(10, (0.5, 2))\n",
    "#kernel = ConstantKernel() + Matern(length_scale=2, nu=3/2) + WhiteKernel(noise_level=1)\n",
    "#kernel=0.00316**2 + Matern(length_scale=1.11, nu=1.5) + WhiteKernel(noise_level=0.0912)\n",
    "\n",
    "gpr = GaussianProcessRegressor(kernel=kernel,random_state=0).fit(trainX, trainY)\n",
    "gpr.score(trainX, trainY)\n",
    "means, sigmas=gpr.predict(predictX, return_std=True)\n",
    "\n",
    "plt.figure(figsize=(8, 5))\n",
    "plt.errorbar(predictX, means, yerr=sigmas, alpha=0.5)\n",
    "plt.plot(predictX, means, 'g', linewidth=4)\n",
    " \n",
    "colors = ['g', 'r', 'b', 'k']\n",
    "for c in colors:\n",
    "    y_set = gpr.sample_y(trainX, random_state=np.random.randint(1000))\n",
    "    plt.plot(trainX.reshape(-1,1), y_set.reshape(-1,1), c + '--', alpha=0.5)\n",
    "\n",
    "\n",
    "plt.show()\n",
    "\n",
    "count = 0\n",
    "lastCount=0\n",
    "for i in np.nditer(means):\n",
    "    if i <= 0 and count>10:\n",
    "        lastCount=count\n",
    "        break\n",
    "    count+=1\n",
    "pd.to_datetime(np.polyval(predictX[lastCount],0))\n"
   ],
   "metadata": {
    "collapsed": false,
    "pycharm": {
     "name": "#%%\n",
     "is_executing": false
    }
   }
  },
  {
   "cell_type": "code",
   "execution_count": 227,
   "outputs": [
    {
     "data": {
      "text/plain": "<Figure size 432x288 with 1 Axes>",
      "image/png": "[encoded data removed]"
     },
     "metadata": {
      "needs_background": "light"
     },
     "output_type": "display_data"
    }
   ],
   "source": [
    "#（5）用2月21日至3月2日的真实数据，比较（3）和（4），将两个回归算法的拟合曲线画在同一个图表中\n",
    "split_date = pd.datetime(2020,2,20)\n",
    "split_date_end = pd.datetime(2020,3,2)\n",
    "df_train = df.loc[(df['报道时间'] >=split_date)  & (df['报道时间'] <= split_date_end)]#筛选时间\n",
    "data=df_train.where(df_train.省份=='湖南').groupby('报道时间',as_index=False).sum() \n",
    "trainX=pd.to_numeric(data['报道时间'].values).reshape(-1, 1)\n",
    "trainY=data['新增确诊'].values.reshape(-1, 1)\n",
    "\n",
    "predictX = pd.to_numeric(pd.date_range('2/1/2020 00:00', periods=40, freq='D').values).reshape(-1, 1)\n",
    "\n",
    "means, sigmas=gpr.predict(predictX, return_std=True)\n",
    "predictY=regr.predict(predictX)\n",
    "\n",
    "\n",
    "\n",
    "plt.plot(predictX, means, 'g', linewidth=4)\n",
    "plt.plot(predictX, predictY, color='blue', linewidth=4)\n",
    "plt.scatter(trainX, trainY,  color='black')\n",
    "plt.show()"
   ],
   "metadata": {
    "collapsed": false,
    "pycharm": {
     "name": "#%%\n",
     "is_executing": false
    }
   }
  },
  {
   "cell_type": "code",
   "execution_count": 228,
   "outputs": [
    {
     "name": "stdout",
     "text": [
      "85.256197620782\n1.3333333333333333\n"
     ],
     "output_type": "stream"
    }
   ],
   "source": [
    "from sklearn.metrics import mean_squared_error\n",
    "means, sigmas=gpr.predict(trainX, return_std=True)\n",
    "predictY=regr.predict(trainX)\n",
    "print(mean_squared_error(trainY, predictY))\n",
    "print(mean_squared_error(trainY, means))"
   ],
   "metadata": {
    "collapsed": false,
    "pycharm": {
     "name": "#%%\n",
     "is_executing": false
    }
   }
  },
  {
   "cell_type": "code",
   "execution_count": 229,
   "outputs": [
    {
     "name": "stdout",
     "text": [
      "-86.69208898137578\n-0.37142857142857144\n"
     ],
     "output_type": "stream"
    }
   ],
   "source": [
    "print(r2_score(trainY, predictY))\n",
    "print(r2_score(trainY, means))"
   ],
   "metadata": {
    "collapsed": false,
    "pycharm": {
     "name": "#%%\n",
     "is_executing": false
    }
   }
  },
  {
   "cell_type": "code",
   "execution_count": 230,
   "outputs": [
    {
     "data": {
      "text/plain": "array([[2.],\n       [0.],\n       [0.],\n       [0.],\n       [0.],\n       [0.],\n       [0.],\n       [0.],\n       [0.],\n       [0.],\n       [0.],\n       [0.]])"
     },
     "metadata": {},
     "output_type": "execute_result",
     "execution_count": 230
    }
   ],
   "source": [
    "trainY\n",
    "\n",
    "means"
   ],
   "metadata": {
    "collapsed": false,
    "pycharm": {
     "name": "#%%\n",
     "is_executing": false
    }
   }
  }
 ],
 "metadata": {
  "kernelspec": {
   "display_name": "Python 3",
   "language": "python",
   "name": "python3"
  },
  "language_info": {
   "codemirror_mode": {
    "name": "ipython",
    "version": 2
   },
   "file_extension": ".py",
   "mimetype": "text/x-python",
   "name": "python",
   "nbconvert_exporter": "python",
   "pygments_lexer": "ipython2",
   "version": "2.7.6"
  },
  "pycharm": {
   "stem_cell": {
    "cell_type": "raw",
    "source": [],
    "metadata": {
     "collapsed": false
    }
   }
  }
 },
 "nbformat": 4,
 "nbformat_minor": 0
}